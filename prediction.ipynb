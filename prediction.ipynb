{
 "cells": [
  {
   "cell_type": "code",
   "execution_count": 1,
   "metadata": {},
   "outputs": [],
   "source": [
    "# Step 1: Import Libraries and Load the model\n",
    "import numpy as np \n",
    "import tensorflow as tf \n",
    "from tensorflow.keras.datasets import imdb\n",
    "from tensorflow.keras.preprocessing import sequence\n",
    "from tensorflow.keras.models import load_model"
   ]
  },
  {
   "cell_type": "code",
   "execution_count": 2,
   "metadata": {},
   "outputs": [],
   "source": [
    "# Load the IMDB dataset word index\n",
    "word_index = imdb.get_word_index()\n",
    "reverse_word_index = {value: key for key, value in word_index.items()}"
   ]
  },
  {
   "cell_type": "code",
   "execution_count": 3,
   "metadata": {},
   "outputs": [
    {
     "name": "stderr",
     "output_type": "stream",
     "text": [
      "WARNING:absl:Compiled the loaded model, but the compiled metrics have yet to be built. `model.compile_metrics` will be empty until you train or evaluate the model.\n"
     ]
    },
    {
     "data": {
      "text/html": [
       "<pre style=\"white-space:pre;overflow-x:auto;line-height:normal;font-family:Menlo,'DejaVu Sans Mono',consolas,'Courier New',monospace\"><span style=\"font-weight: bold\">Model: \"sequential\"</span>\n",
       "</pre>\n"
      ],
      "text/plain": [
       "\u001b[1mModel: \"sequential\"\u001b[0m\n"
      ]
     },
     "metadata": {},
     "output_type": "display_data"
    },
    {
     "data": {
      "text/html": [
       "<pre style=\"white-space:pre;overflow-x:auto;line-height:normal;font-family:Menlo,'DejaVu Sans Mono',consolas,'Courier New',monospace\">┏━━━━━━━━━━━━━━━━━━━━━━━━━━━━━━━━━┳━━━━━━━━━━━━━━━━━━━━━━━━┳━━━━━━━━━━━━━━━┓\n",
       "┃<span style=\"font-weight: bold\"> Layer (type)                    </span>┃<span style=\"font-weight: bold\"> Output Shape           </span>┃<span style=\"font-weight: bold\">       Param # </span>┃\n",
       "┡━━━━━━━━━━━━━━━━━━━━━━━━━━━━━━━━━╇━━━━━━━━━━━━━━━━━━━━━━━━╇━━━━━━━━━━━━━━━┩\n",
       "│ embedding (<span style=\"color: #0087ff; text-decoration-color: #0087ff\">Embedding</span>)           │ (<span style=\"color: #00af00; text-decoration-color: #00af00\">32</span>, <span style=\"color: #00af00; text-decoration-color: #00af00\">500</span>, <span style=\"color: #00af00; text-decoration-color: #00af00\">128</span>)         │     <span style=\"color: #00af00; text-decoration-color: #00af00\">1,280,000</span> │\n",
       "├─────────────────────────────────┼────────────────────────┼───────────────┤\n",
       "│ simple_rnn (<span style=\"color: #0087ff; text-decoration-color: #0087ff\">SimpleRNN</span>)          │ (<span style=\"color: #00af00; text-decoration-color: #00af00\">32</span>, <span style=\"color: #00af00; text-decoration-color: #00af00\">128</span>)              │        <span style=\"color: #00af00; text-decoration-color: #00af00\">32,896</span> │\n",
       "├─────────────────────────────────┼────────────────────────┼───────────────┤\n",
       "│ dense (<span style=\"color: #0087ff; text-decoration-color: #0087ff\">Dense</span>)                   │ (<span style=\"color: #00af00; text-decoration-color: #00af00\">32</span>, <span style=\"color: #00af00; text-decoration-color: #00af00\">1</span>)                │           <span style=\"color: #00af00; text-decoration-color: #00af00\">129</span> │\n",
       "└─────────────────────────────────┴────────────────────────┴───────────────┘\n",
       "</pre>\n"
      ],
      "text/plain": [
       "┏━━━━━━━━━━━━━━━━━━━━━━━━━━━━━━━━━┳━━━━━━━━━━━━━━━━━━━━━━━━┳━━━━━━━━━━━━━━━┓\n",
       "┃\u001b[1m \u001b[0m\u001b[1mLayer (type)                   \u001b[0m\u001b[1m \u001b[0m┃\u001b[1m \u001b[0m\u001b[1mOutput Shape          \u001b[0m\u001b[1m \u001b[0m┃\u001b[1m \u001b[0m\u001b[1m      Param #\u001b[0m\u001b[1m \u001b[0m┃\n",
       "┡━━━━━━━━━━━━━━━━━━━━━━━━━━━━━━━━━╇━━━━━━━━━━━━━━━━━━━━━━━━╇━━━━━━━━━━━━━━━┩\n",
       "│ embedding (\u001b[38;5;33mEmbedding\u001b[0m)           │ (\u001b[38;5;34m32\u001b[0m, \u001b[38;5;34m500\u001b[0m, \u001b[38;5;34m128\u001b[0m)         │     \u001b[38;5;34m1,280,000\u001b[0m │\n",
       "├─────────────────────────────────┼────────────────────────┼───────────────┤\n",
       "│ simple_rnn (\u001b[38;5;33mSimpleRNN\u001b[0m)          │ (\u001b[38;5;34m32\u001b[0m, \u001b[38;5;34m128\u001b[0m)              │        \u001b[38;5;34m32,896\u001b[0m │\n",
       "├─────────────────────────────────┼────────────────────────┼───────────────┤\n",
       "│ dense (\u001b[38;5;33mDense\u001b[0m)                   │ (\u001b[38;5;34m32\u001b[0m, \u001b[38;5;34m1\u001b[0m)                │           \u001b[38;5;34m129\u001b[0m │\n",
       "└─────────────────────────────────┴────────────────────────┴───────────────┘\n"
      ]
     },
     "metadata": {},
     "output_type": "display_data"
    },
    {
     "data": {
      "text/html": [
       "<pre style=\"white-space:pre;overflow-x:auto;line-height:normal;font-family:Menlo,'DejaVu Sans Mono',consolas,'Courier New',monospace\"><span style=\"font-weight: bold\"> Total params: </span><span style=\"color: #00af00; text-decoration-color: #00af00\">1,313,027</span> (5.01 MB)\n",
       "</pre>\n"
      ],
      "text/plain": [
       "\u001b[1m Total params: \u001b[0m\u001b[38;5;34m1,313,027\u001b[0m (5.01 MB)\n"
      ]
     },
     "metadata": {},
     "output_type": "display_data"
    },
    {
     "data": {
      "text/html": [
       "<pre style=\"white-space:pre;overflow-x:auto;line-height:normal;font-family:Menlo,'DejaVu Sans Mono',consolas,'Courier New',monospace\"><span style=\"font-weight: bold\"> Trainable params: </span><span style=\"color: #00af00; text-decoration-color: #00af00\">1,313,025</span> (5.01 MB)\n",
       "</pre>\n"
      ],
      "text/plain": [
       "\u001b[1m Trainable params: \u001b[0m\u001b[38;5;34m1,313,025\u001b[0m (5.01 MB)\n"
      ]
     },
     "metadata": {},
     "output_type": "display_data"
    },
    {
     "data": {
      "text/html": [
       "<pre style=\"white-space:pre;overflow-x:auto;line-height:normal;font-family:Menlo,'DejaVu Sans Mono',consolas,'Courier New',monospace\"><span style=\"font-weight: bold\"> Non-trainable params: </span><span style=\"color: #00af00; text-decoration-color: #00af00\">0</span> (0.00 B)\n",
       "</pre>\n"
      ],
      "text/plain": [
       "\u001b[1m Non-trainable params: \u001b[0m\u001b[38;5;34m0\u001b[0m (0.00 B)\n"
      ]
     },
     "metadata": {},
     "output_type": "display_data"
    },
    {
     "data": {
      "text/html": [
       "<pre style=\"white-space:pre;overflow-x:auto;line-height:normal;font-family:Menlo,'DejaVu Sans Mono',consolas,'Courier New',monospace\"><span style=\"font-weight: bold\"> Optimizer params: </span><span style=\"color: #00af00; text-decoration-color: #00af00\">2</span> (12.00 B)\n",
       "</pre>\n"
      ],
      "text/plain": [
       "\u001b[1m Optimizer params: \u001b[0m\u001b[38;5;34m2\u001b[0m (12.00 B)\n"
      ]
     },
     "metadata": {},
     "output_type": "display_data"
    }
   ],
   "source": [
    "# Load our pre-trained model with RELU activation\n",
    "model = load_model('simple_rnn_imdb.h5')\n",
    "model.summary()"
   ]
  },
  {
   "cell_type": "code",
   "execution_count": 4,
   "metadata": {},
   "outputs": [
    {
     "data": {
      "text/plain": [
       "[array([[ 7.9574980e-02, -6.5857604e-02,  1.5984516e-01, ...,\n",
       "         -9.4885014e-02, -2.1958978e-01, -3.0215759e-02],\n",
       "        [-1.8636087e-02, -2.0561645e-02,  1.7445382e-02, ...,\n",
       "          7.3529081e-03, -2.6468920e-02, -5.3692974e-02],\n",
       "        [ 7.4813096e-03, -4.6573009e-02,  3.1748489e-02, ...,\n",
       "         -1.8643195e-02, -1.3366737e-04, -3.8025940e-03],\n",
       "        ...,\n",
       "        [ 1.0531160e-02, -2.3459574e-02,  6.0197942e-02, ...,\n",
       "         -5.8032274e-02,  1.7404037e-02,  3.6077205e-02],\n",
       "        [-7.7572577e-02, -1.1440941e-02, -6.7172996e-03, ...,\n",
       "         -3.6881763e-02, -3.7146568e-02, -1.0066145e-02],\n",
       "        [ 1.1642236e-02, -8.1024924e-03, -1.5381384e-02, ...,\n",
       "          1.5730131e-02, -3.6895648e-03,  9.5727248e-03]], dtype=float32),\n",
       " array([[-0.0227462 ,  0.08055227, -0.14457862, ..., -0.09452688,\n",
       "         -0.02355798, -0.0961213 ],\n",
       "        [-0.09507664, -0.12642285, -0.04878588, ...,  0.05451221,\n",
       "         -0.06618778, -0.0025844 ],\n",
       "        [ 0.05846194,  0.05755801,  0.05181222, ...,  0.0873436 ,\n",
       "         -0.02738502,  0.09087881],\n",
       "        ...,\n",
       "        [-0.08377179,  0.12811495,  0.09664264, ...,  0.14861967,\n",
       "         -0.00779736, -0.07342763],\n",
       "        [-0.07160038,  0.17588517, -0.08516122, ..., -0.03691255,\n",
       "          0.01462916,  0.13793603],\n",
       "        [-0.00714577,  0.08127562,  0.16524854, ..., -0.13916704,\n",
       "          0.12670621,  0.15370911]], dtype=float32),\n",
       " array([[-0.02340948, -0.24238317, -0.03931556, ..., -0.05461483,\n",
       "          0.02256507, -0.09888502],\n",
       "        [ 0.01521451,  0.08401427, -0.06518832, ...,  0.01108228,\n",
       "          0.12996083, -0.05597566],\n",
       "        [-0.07895697, -0.04090733, -0.03965515, ..., -0.10429281,\n",
       "         -0.1280953 , -0.04124379],\n",
       "        ...,\n",
       "        [-0.1121463 ,  0.01590018, -0.17229904, ..., -0.06007298,\n",
       "         -0.11107937,  0.0814257 ],\n",
       "        [ 0.07208012, -0.03654655, -0.1268126 , ...,  0.10459302,\n",
       "         -0.03893126, -0.09953602],\n",
       "        [-0.10292483,  0.03472181, -0.0389247 , ...,  0.03732171,\n",
       "         -0.07931922,  0.07608081]], dtype=float32),\n",
       " array([ 0.01101763, -0.0032215 , -0.020592  ,  0.03814119,  0.02022952,\n",
       "         0.0194819 , -0.02056525, -0.01218673, -0.00866215,  0.01672066,\n",
       "        -0.01062312, -0.01793743, -0.04082672,  0.02931581,  0.01030637,\n",
       "        -0.02262715, -0.00815212,  0.01238855,  0.0177703 ,  0.00408553,\n",
       "        -0.00802876,  0.00436295, -0.01072082, -0.011983  ,  0.02950821,\n",
       "        -0.00676684, -0.0156457 ,  0.01138848, -0.01742993,  0.00776871,\n",
       "         0.02132064, -0.00226324, -0.01876516,  0.03213376,  0.01892244,\n",
       "        -0.02797765,  0.01183892,  0.00750151, -0.02038796,  0.00605973,\n",
       "         0.00114979, -0.02157183,  0.00803434, -0.00325479, -0.0125353 ,\n",
       "        -0.03013911, -0.01151665,  0.00213733, -0.02395772, -0.00120307,\n",
       "         0.01031183,  0.02194951, -0.00142792, -0.03614835, -0.0169489 ,\n",
       "         0.05809857, -0.01122407,  0.0020705 ,  0.00906542, -0.0080916 ,\n",
       "        -0.00543691, -0.00618023,  0.01527954, -0.00042779, -0.00408431,\n",
       "         0.00481007, -0.00882786,  0.0257138 , -0.011638  , -0.01523867,\n",
       "        -0.02740344,  0.00977766, -0.01857758,  0.01685558,  0.01196562,\n",
       "         0.02045826, -0.00791643, -0.02114992, -0.01158383,  0.00358388,\n",
       "        -0.00631362, -0.0265923 , -0.02783765, -0.01310396,  0.00013822,\n",
       "        -0.01658178, -0.00446518,  0.01733395, -0.01793933,  0.01842609,\n",
       "        -0.01805343, -0.00638783, -0.01882701, -0.0117585 , -0.0034569 ,\n",
       "         0.00033499,  0.02907078, -0.01172325,  0.00205293,  0.00340913,\n",
       "        -0.01587541, -0.00495208, -0.03383436,  0.02322358, -0.01413012,\n",
       "         0.02708393, -0.01972375,  0.02804514,  0.01374156, -0.01217631,\n",
       "        -0.00909362,  0.01014387,  0.03375166,  0.0152759 , -0.03374354,\n",
       "        -0.01874609, -0.02982419, -0.01458509,  0.02047185, -0.02083072,\n",
       "         0.03213427,  0.05117954,  0.02702673,  0.00063701, -0.0116942 ,\n",
       "         0.0238207 , -0.06586844, -0.01567162], dtype=float32),\n",
       " array([[-5.65165244e-02],\n",
       "        [ 1.93107694e-01],\n",
       "        [ 3.54176283e-01],\n",
       "        [-1.74971908e-01],\n",
       "        [-1.92741469e-01],\n",
       "        [-7.51223341e-02],\n",
       "        [-1.11093052e-01],\n",
       "        [-2.18218803e-01],\n",
       "        [-2.23624073e-02],\n",
       "        [ 1.22861497e-01],\n",
       "        [-2.04855382e-01],\n",
       "        [-1.29980743e-01],\n",
       "        [ 1.90152284e-02],\n",
       "        [ 2.55478948e-01],\n",
       "        [ 3.24592531e-01],\n",
       "        [-1.89382017e-01],\n",
       "        [ 4.35726285e-01],\n",
       "        [ 2.59200148e-02],\n",
       "        [ 2.99463362e-01],\n",
       "        [ 6.30706623e-02],\n",
       "        [-1.02168091e-01],\n",
       "        [-9.32313874e-02],\n",
       "        [-1.78820804e-01],\n",
       "        [-6.56407848e-02],\n",
       "        [-1.38926844e-04],\n",
       "        [ 2.48815447e-01],\n",
       "        [-2.39454687e-01],\n",
       "        [ 2.70984054e-01],\n",
       "        [-1.50623739e-01],\n",
       "        [-5.35186194e-02],\n",
       "        [-5.55463433e-02],\n",
       "        [-9.09917727e-02],\n",
       "        [ 1.09942608e-01],\n",
       "        [ 7.10313767e-02],\n",
       "        [-1.47139207e-01],\n",
       "        [ 7.65160285e-03],\n",
       "        [-3.64044011e-02],\n",
       "        [-1.71870589e-01],\n",
       "        [ 2.04226106e-01],\n",
       "        [-2.18732223e-01],\n",
       "        [ 4.68973964e-01],\n",
       "        [ 1.95352864e-02],\n",
       "        [ 1.17366388e-01],\n",
       "        [-2.80407071e-02],\n",
       "        [-2.43572608e-01],\n",
       "        [-1.15153253e-01],\n",
       "        [ 2.14470979e-02],\n",
       "        [-1.08404405e-01],\n",
       "        [-1.38903618e-01],\n",
       "        [-9.05983075e-02],\n",
       "        [-1.35261983e-01],\n",
       "        [ 1.28289297e-01],\n",
       "        [ 1.28359392e-01],\n",
       "        [-9.14598778e-02],\n",
       "        [ 2.41838023e-01],\n",
       "        [-6.59060329e-02],\n",
       "        [ 6.38917685e-02],\n",
       "        [-7.33876377e-02],\n",
       "        [-9.69270766e-02],\n",
       "        [-1.29279748e-01],\n",
       "        [-1.54845327e-01],\n",
       "        [ 1.11777544e-01],\n",
       "        [-3.31997946e-02],\n",
       "        [ 2.35939678e-03],\n",
       "        [ 2.96780080e-01],\n",
       "        [ 2.28698641e-01],\n",
       "        [-1.07275620e-01],\n",
       "        [ 2.33663157e-01],\n",
       "        [-1.93473563e-01],\n",
       "        [ 8.25102702e-02],\n",
       "        [-1.00833431e-01],\n",
       "        [ 1.53960437e-01],\n",
       "        [-6.76260144e-02],\n",
       "        [-1.86633155e-01],\n",
       "        [ 2.53070921e-01],\n",
       "        [-2.78430611e-01],\n",
       "        [ 2.96025813e-01],\n",
       "        [-1.34249911e-01],\n",
       "        [-2.27846637e-01],\n",
       "        [-2.76893586e-01],\n",
       "        [-1.15851581e-01],\n",
       "        [-1.25935763e-01],\n",
       "        [ 2.17063889e-01],\n",
       "        [ 6.74427487e-03],\n",
       "        [-3.65477413e-01],\n",
       "        [-2.00490579e-01],\n",
       "        [ 1.30989105e-01],\n",
       "        [-9.89977941e-02],\n",
       "        [-8.35391507e-02],\n",
       "        [-2.52168238e-01],\n",
       "        [-2.02889979e-01],\n",
       "        [ 8.94057602e-02],\n",
       "        [ 4.20023873e-02],\n",
       "        [ 3.92712001e-03],\n",
       "        [ 8.72483552e-02],\n",
       "        [-2.03489661e-01],\n",
       "        [ 2.76874602e-01],\n",
       "        [ 1.87017813e-01],\n",
       "        [-2.51816541e-01],\n",
       "        [ 8.13577697e-02],\n",
       "        [-7.56734633e-04],\n",
       "        [-2.23820984e-01],\n",
       "        [-8.65475461e-02],\n",
       "        [-1.09818101e-01],\n",
       "        [-1.73232466e-01],\n",
       "        [-2.11116955e-01],\n",
       "        [ 1.29823759e-01],\n",
       "        [ 3.65823627e-01],\n",
       "        [ 1.66018561e-01],\n",
       "        [ 4.66465876e-02],\n",
       "        [-1.70980498e-01],\n",
       "        [-7.47029558e-02],\n",
       "        [ 3.74095105e-02],\n",
       "        [ 1.17140517e-01],\n",
       "        [ 1.22480638e-01],\n",
       "        [ 1.64265245e-01],\n",
       "        [-2.80014545e-01],\n",
       "        [ 2.15860933e-01],\n",
       "        [-1.67553172e-01],\n",
       "        [-1.84755057e-01],\n",
       "        [ 2.96732783e-01],\n",
       "        [-1.20309636e-01],\n",
       "        [ 1.99744672e-01],\n",
       "        [ 1.33075655e-01],\n",
       "        [-2.22636476e-01],\n",
       "        [ 2.77076334e-01],\n",
       "        [-3.68299544e-01],\n",
       "        [-1.97299048e-01]], dtype=float32),\n",
       " array([0.03477422], dtype=float32)]"
      ]
     },
     "execution_count": 4,
     "metadata": {},
     "output_type": "execute_result"
    }
   ],
   "source": [
    "model.get_weights()"
   ]
  },
  {
   "cell_type": "code",
   "execution_count": 5,
   "metadata": {},
   "outputs": [],
   "source": [
    "# Step 2: Helper functions\n",
    "# Function to decode reviews\n",
    "def decode_review(encoded_review):\n",
    "    return ' '.join([reverse_word_index.get(i - 3, '?') for i in encoded_review])\n",
    "\n",
    "\n",
    "# Function to preprocess user input\n",
    "def preprocess_text(text):\n",
    "    words = text.lower().split()\n",
    "    encoded_review = [word_index.get(word, 2) + 3 for word in words]\n",
    "    padded_review = sequence.pad_sequences([encoded_review], maxlen=500)\n",
    "    return padded_review"
   ]
  },
  {
   "cell_type": "code",
   "execution_count": 6,
   "metadata": {},
   "outputs": [],
   "source": [
    "# Prediction function\n",
    "def predict_sentiment(review):\n",
    "    preprocessed_input = preprocess_text(review)\n",
    "    \n",
    "    prediction = model.predict(preprocessed_input)\n",
    "    \n",
    "    sentiment = 'Positive' if prediction[0][0] > 0.5 else 'Negative'\n",
    "    \n",
    "    return sentiment, prediction[0][0]\n"
   ]
  },
  {
   "cell_type": "code",
   "execution_count": 7,
   "metadata": {},
   "outputs": [
    {
     "name": "stdout",
     "output_type": "stream",
     "text": [
      "\u001b[1m1/1\u001b[0m \u001b[32m━━━━━━━━━━━━━━━━━━━━\u001b[0m\u001b[37m\u001b[0m \u001b[1m0s\u001b[0m 194ms/step\n",
      "Review: This movie was fantastic! The acting was great and the plot was thrilling.\n",
      "Sentiment: Negative\n",
      "Prediction Score: 0.21811334788799286\n"
     ]
    }
   ],
   "source": [
    "# Step 4: User Input and Prediction\n",
    "# Example review for prediction\n",
    "example_review = \"This movie was fantastic! The acting was great and the plot was thrilling.\"\n",
    "\n",
    "sentiment,score = predict_sentiment(example_review)\n",
    "\n",
    "print(f'Review: {example_review}')\n",
    "print(f'Sentiment: {sentiment}')\n",
    "print(f'Prediction Score: {score}')"
   ]
  },
  {
   "cell_type": "code",
   "execution_count": null,
   "metadata": {},
   "outputs": [],
   "source": []
  },
  {
   "cell_type": "code",
   "execution_count": null,
   "metadata": {},
   "outputs": [],
   "source": []
  }
 ],
 "metadata": {
  "kernelspec": {
   "display_name": "Python 3",
   "language": "python",
   "name": "python3"
  },
  "language_info": {
   "codemirror_mode": {
    "name": "ipython",
    "version": 3
   },
   "file_extension": ".py",
   "mimetype": "text/x-python",
   "name": "python",
   "nbconvert_exporter": "python",
   "pygments_lexer": "ipython3",
   "version": "3.12.0"
  }
 },
 "nbformat": 4,
 "nbformat_minor": 2
}
